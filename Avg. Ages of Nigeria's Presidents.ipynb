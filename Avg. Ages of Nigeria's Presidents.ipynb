{
 "cells": [
  {
   "cell_type": "markdown",
   "id": "0d073822",
   "metadata": {},
   "source": [
    "#### Part 1 - Data Scraping & Cleaning"
   ]
  },
  {
   "cell_type": "code",
   "execution_count": 1,
   "id": "e2f6f848",
   "metadata": {},
   "outputs": [],
   "source": [
    "%matplotlib inline"
   ]
  },
  {
   "cell_type": "code",
   "execution_count": 2,
   "id": "93d7004a",
   "metadata": {},
   "outputs": [],
   "source": [
    "####\n",
    "import pandas as pd\n",
    "import matplotlib.pyplot as plt\n",
    "import matplotlib.patches as patches"
   ]
  },
  {
   "cell_type": "code",
   "execution_count": 3,
   "id": "99628466",
   "metadata": {},
   "outputs": [
    {
     "name": "stdout",
     "output_type": "stream",
     "text": [
      "Index(['Name', 'Date of birth', 'Date of death',\n",
      "       'Date and age at assuming office'],\n",
      "      dtype='object')\n",
      "Index(['Rank', 'Head of state', 'Date of birth', 'Date of death',\n",
      "       'Longevity (Years, Days)', 'Longevity (Days)'],\n",
      "      dtype='object')\n",
      "Index([0, 1], dtype='int64')\n",
      "Index(['#', 'Head of state', 'Date of birth', 'Date of assuming office',\n",
      "       'Age at assuming office', 'End of term', 'Age at end of term',\n",
      "       'Length of retirement', 'Date of death', 'Lifespan'],\n",
      "      dtype='object')\n"
     ]
    }
   ],
   "source": [
    "# scrape data from wikipedia website\n",
    "url = 'https://en.wikipedia.org/wiki/List_of_Nigerian_heads_of_state_by_age#List_of_heads_of_state_by_age_at_assuming_office'\n",
    "table = pd.read_html(url)\n",
    "\n",
    "# loop through to see dataframe structures\n",
    "for i in table:\n",
    "    print(i.columns)"
   ]
  },
  {
   "cell_type": "code",
   "execution_count": 4,
   "id": "f8953210",
   "metadata": {},
   "outputs": [
    {
     "data": {
      "text/html": [
       "<div>\n",
       "<style scoped>\n",
       "    .dataframe tbody tr th:only-of-type {\n",
       "        vertical-align: middle;\n",
       "    }\n",
       "\n",
       "    .dataframe tbody tr th {\n",
       "        vertical-align: top;\n",
       "    }\n",
       "\n",
       "    .dataframe thead th {\n",
       "        text-align: right;\n",
       "    }\n",
       "</style>\n",
       "<table border=\"1\" class=\"dataframe\">\n",
       "  <thead>\n",
       "    <tr style=\"text-align: right;\">\n",
       "      <th></th>\n",
       "      <th>Name</th>\n",
       "      <th>Date of birth</th>\n",
       "      <th>Date of death</th>\n",
       "      <th>Date and age at assuming office</th>\n",
       "    </tr>\n",
       "  </thead>\n",
       "  <tbody>\n",
       "    <tr>\n",
       "      <th>0</th>\n",
       "      <td>Yakubu Gowon</td>\n",
       "      <td>19 October 1934</td>\n",
       "      <td>(living)</td>\n",
       "      <td>1 August 1966 (aged 31)</td>\n",
       "    </tr>\n",
       "    <tr>\n",
       "      <th>1</th>\n",
       "      <td>Murtala Muhammed</td>\n",
       "      <td>8 November 1938</td>\n",
       "      <td>13 February 1976</td>\n",
       "      <td>29 July 1975 (aged 36)</td>\n",
       "    </tr>\n",
       "    <tr>\n",
       "      <th>2</th>\n",
       "      <td>Olusegun Obasanjo</td>\n",
       "      <td>5 March 1937</td>\n",
       "      <td>(living)</td>\n",
       "      <td>13 February 1976 (aged 38)</td>\n",
       "    </tr>\n",
       "    <tr>\n",
       "      <th>3</th>\n",
       "      <td>Muhammadu Buhari</td>\n",
       "      <td>17 December 1942</td>\n",
       "      <td>(living)</td>\n",
       "      <td>31 December 1983 (aged 41)</td>\n",
       "    </tr>\n",
       "    <tr>\n",
       "      <th>4</th>\n",
       "      <td>Johnson Aguiyi-Ironsi</td>\n",
       "      <td>3 March 1924</td>\n",
       "      <td>29 July 1966</td>\n",
       "      <td>16 January 1966 (aged 41)</td>\n",
       "    </tr>\n",
       "  </tbody>\n",
       "</table>\n",
       "</div>"
      ],
      "text/plain": [
       "                    Name     Date of birth     Date of death  \\\n",
       "0           Yakubu Gowon   19 October 1934          (living)   \n",
       "1       Murtala Muhammed   8 November 1938  13 February 1976   \n",
       "2      Olusegun Obasanjo      5 March 1937          (living)   \n",
       "3       Muhammadu Buhari  17 December 1942          (living)   \n",
       "4  Johnson Aguiyi-Ironsi      3 March 1924      29 July 1966   \n",
       "\n",
       "  Date and age at assuming office  \n",
       "0         1 August 1966 (aged 31)  \n",
       "1          29 July 1975 (aged 36)  \n",
       "2      13 February 1976 (aged 38)  \n",
       "3      31 December 1983 (aged 41)  \n",
       "4       16 January 1966 (aged 41)  "
      ]
     },
     "execution_count": 4,
     "metadata": {},
     "output_type": "execute_result"
    }
   ],
   "source": [
    "df = table[0]\n",
    "df.head()"
   ]
  },
  {
   "cell_type": "markdown",
   "id": "64eef170",
   "metadata": {},
   "source": [
    "##### Data cleaning and Transformation"
   ]
  },
  {
   "cell_type": "code",
   "execution_count": 5,
   "id": "55c3e1f5",
   "metadata": {},
   "outputs": [
    {
     "name": "stdout",
     "output_type": "stream",
     "text": [
      "<class 'pandas.core.frame.DataFrame'>\n",
      "RangeIndex: 16 entries, 0 to 15\n",
      "Data columns (total 4 columns):\n",
      " #   Column                           Non-Null Count  Dtype \n",
      "---  ------                           --------------  ----- \n",
      " 0   Name                             16 non-null     object\n",
      " 1   Date of birth                    16 non-null     object\n",
      " 2   Date of death                    16 non-null     object\n",
      " 3   Date and age at assuming office  16 non-null     object\n",
      "dtypes: object(4)\n",
      "memory usage: 640.0+ bytes\n"
     ]
    }
   ],
   "source": [
    "df.info()"
   ]
  },
  {
   "cell_type": "code",
   "execution_count": 8,
   "id": "acf98670",
   "metadata": {},
   "outputs": [],
   "source": [
    "df['Date of death'] = pd.to_datetime(df['Date of death'], errors='coerce', format='%Y-%m-%d')\n",
    "df.head()"
   ]
  },
  {
   "cell_type": "code",
   "execution_count": 9,
   "id": "f1ae8ab3",
   "metadata": {},
   "outputs": [
    {
     "data": {
      "text/html": [
       "<div>\n",
       "<style scoped>\n",
       "    .dataframe tbody tr th:only-of-type {\n",
       "        vertical-align: middle;\n",
       "    }\n",
       "\n",
       "    .dataframe tbody tr th {\n",
       "        vertical-align: top;\n",
       "    }\n",
       "\n",
       "    .dataframe thead th {\n",
       "        text-align: right;\n",
       "    }\n",
       "</style>\n",
       "<table border=\"1\" class=\"dataframe\">\n",
       "  <thead>\n",
       "    <tr style=\"text-align: right;\">\n",
       "      <th></th>\n",
       "      <th>Name</th>\n",
       "      <th>Date of birth</th>\n",
       "      <th>Date of death</th>\n",
       "      <th>Date and age at assuming office</th>\n",
       "    </tr>\n",
       "  </thead>\n",
       "  <tbody>\n",
       "    <tr>\n",
       "      <th>0</th>\n",
       "      <td>Yakubu Gowon</td>\n",
       "      <td>19 October 1934</td>\n",
       "      <td>NaT</td>\n",
       "      <td>1 August 1966 (aged 31)</td>\n",
       "    </tr>\n",
       "    <tr>\n",
       "      <th>1</th>\n",
       "      <td>Murtala Muhammed</td>\n",
       "      <td>8 November 1938</td>\n",
       "      <td>1976-02-13</td>\n",
       "      <td>29 July 1975 (aged 36)</td>\n",
       "    </tr>\n",
       "    <tr>\n",
       "      <th>2</th>\n",
       "      <td>Olusegun Obasanjo</td>\n",
       "      <td>5 March 1937</td>\n",
       "      <td>NaT</td>\n",
       "      <td>13 February 1976 (aged 38)</td>\n",
       "    </tr>\n",
       "    <tr>\n",
       "      <th>3</th>\n",
       "      <td>Muhammadu Buhari</td>\n",
       "      <td>17 December 1942</td>\n",
       "      <td>NaT</td>\n",
       "      <td>31 December 1983 (aged 41)</td>\n",
       "    </tr>\n",
       "    <tr>\n",
       "      <th>4</th>\n",
       "      <td>Johnson Aguiyi-Ironsi</td>\n",
       "      <td>3 March 1924</td>\n",
       "      <td>1966-07-29</td>\n",
       "      <td>16 January 1966 (aged 41)</td>\n",
       "    </tr>\n",
       "  </tbody>\n",
       "</table>\n",
       "</div>"
      ],
      "text/plain": [
       "                    Name     Date of birth Date of death  \\\n",
       "0           Yakubu Gowon   19 October 1934           NaT   \n",
       "1       Murtala Muhammed   8 November 1938    1976-02-13   \n",
       "2      Olusegun Obasanjo      5 March 1937           NaT   \n",
       "3       Muhammadu Buhari  17 December 1942           NaT   \n",
       "4  Johnson Aguiyi-Ironsi      3 March 1924    1966-07-29   \n",
       "\n",
       "  Date and age at assuming office  \n",
       "0         1 August 1966 (aged 31)  \n",
       "1          29 July 1975 (aged 36)  \n",
       "2      13 February 1976 (aged 38)  \n",
       "3      31 December 1983 (aged 41)  \n",
       "4       16 January 1966 (aged 41)  "
      ]
     },
     "execution_count": 9,
     "metadata": {},
     "output_type": "execute_result"
    }
   ],
   "source": []
  },
  {
   "cell_type": "code",
   "execution_count": 11,
   "id": "c1d09cdc",
   "metadata": {},
   "outputs": [
    {
     "data": {
      "text/html": [
       "<div>\n",
       "<style scoped>\n",
       "    .dataframe tbody tr th:only-of-type {\n",
       "        vertical-align: middle;\n",
       "    }\n",
       "\n",
       "    .dataframe tbody tr th {\n",
       "        vertical-align: top;\n",
       "    }\n",
       "\n",
       "    .dataframe thead th {\n",
       "        text-align: right;\n",
       "    }\n",
       "</style>\n",
       "<table border=\"1\" class=\"dataframe\">\n",
       "  <thead>\n",
       "    <tr style=\"text-align: right;\">\n",
       "      <th></th>\n",
       "      <th>Name</th>\n",
       "      <th>Date of birth</th>\n",
       "      <th>Date of death</th>\n",
       "      <th>Date and age at assuming office</th>\n",
       "    </tr>\n",
       "  </thead>\n",
       "  <tbody>\n",
       "    <tr>\n",
       "      <th>0</th>\n",
       "      <td>Yakubu Gowon</td>\n",
       "      <td>19 October 1934</td>\n",
       "      <td>2024-05-13 07:45:29.862693</td>\n",
       "      <td>1 August 1966 (aged 31)</td>\n",
       "    </tr>\n",
       "    <tr>\n",
       "      <th>1</th>\n",
       "      <td>Murtala Muhammed</td>\n",
       "      <td>8 November 1938</td>\n",
       "      <td>1976-02-13 00:00:00.000000</td>\n",
       "      <td>29 July 1975 (aged 36)</td>\n",
       "    </tr>\n",
       "    <tr>\n",
       "      <th>2</th>\n",
       "      <td>Olusegun Obasanjo</td>\n",
       "      <td>5 March 1937</td>\n",
       "      <td>2024-05-13 07:45:29.862693</td>\n",
       "      <td>13 February 1976 (aged 38)</td>\n",
       "    </tr>\n",
       "    <tr>\n",
       "      <th>3</th>\n",
       "      <td>Muhammadu Buhari</td>\n",
       "      <td>17 December 1942</td>\n",
       "      <td>2024-05-13 07:45:29.862693</td>\n",
       "      <td>31 December 1983 (aged 41)</td>\n",
       "    </tr>\n",
       "    <tr>\n",
       "      <th>4</th>\n",
       "      <td>Johnson Aguiyi-Ironsi</td>\n",
       "      <td>3 March 1924</td>\n",
       "      <td>1966-07-29 00:00:00.000000</td>\n",
       "      <td>16 January 1966 (aged 41)</td>\n",
       "    </tr>\n",
       "  </tbody>\n",
       "</table>\n",
       "</div>"
      ],
      "text/plain": [
       "                    Name     Date of birth              Date of death  \\\n",
       "0           Yakubu Gowon   19 October 1934 2024-05-13 07:45:29.862693   \n",
       "1       Murtala Muhammed   8 November 1938 1976-02-13 00:00:00.000000   \n",
       "2      Olusegun Obasanjo      5 March 1937 2024-05-13 07:45:29.862693   \n",
       "3       Muhammadu Buhari  17 December 1942 2024-05-13 07:45:29.862693   \n",
       "4  Johnson Aguiyi-Ironsi      3 March 1924 1966-07-29 00:00:00.000000   \n",
       "\n",
       "  Date and age at assuming office  \n",
       "0         1 August 1966 (aged 31)  \n",
       "1          29 July 1975 (aged 36)  \n",
       "2      13 February 1976 (aged 38)  \n",
       "3      31 December 1983 (aged 41)  \n",
       "4       16 January 1966 (aged 41)  "
      ]
     },
     "execution_count": 11,
     "metadata": {},
     "output_type": "execute_result"
    }
   ],
   "source": [
    "# Get the current date\n",
    "current_date = pd.to_datetime('today')\n",
    "\n",
    "# Fill NaT values with the current date\n",
    "df['Date of death'] = df['Date of death'].fillna(current_date)\n",
    "df.head()"
   ]
  },
  {
   "cell_type": "code",
   "execution_count": 12,
   "id": "a6b31d5c",
   "metadata": {},
   "outputs": [],
   "source": [
    "# convert the date of birth columns to datetime\n",
    "df['Date of birth'] = pd.to_datetime(df['Date of birth'])\n",
    "\n",
    "# Extract year of birth and convert to string\n",
    "df['year of birth'] = pd.to_datetime(df['Date of birth']).dt.year.astype(str)\n",
    "\n",
    "# Calculate age by subtracting birth dates from current date\n",
    "df['age'] = df['Date of death'].dt.year - df['Date of birth'].dt.year\n"
   ]
  },
  {
   "cell_type": "code",
   "execution_count": 15,
   "id": "e8ef53c5",
   "metadata": {},
   "outputs": [
    {
     "data": {
      "text/html": [
       "<div>\n",
       "<style scoped>\n",
       "    .dataframe tbody tr th:only-of-type {\n",
       "        vertical-align: middle;\n",
       "    }\n",
       "\n",
       "    .dataframe tbody tr th {\n",
       "        vertical-align: top;\n",
       "    }\n",
       "\n",
       "    .dataframe thead th {\n",
       "        text-align: right;\n",
       "    }\n",
       "</style>\n",
       "<table border=\"1\" class=\"dataframe\">\n",
       "  <thead>\n",
       "    <tr style=\"text-align: right;\">\n",
       "      <th></th>\n",
       "      <th>Name</th>\n",
       "      <th>year of birth</th>\n",
       "      <th>age</th>\n",
       "    </tr>\n",
       "  </thead>\n",
       "  <tbody>\n",
       "    <tr>\n",
       "      <th>0</th>\n",
       "      <td>Yakubu Gowon</td>\n",
       "      <td>1934</td>\n",
       "      <td>90</td>\n",
       "    </tr>\n",
       "    <tr>\n",
       "      <th>1</th>\n",
       "      <td>Murtala Muhammed</td>\n",
       "      <td>1938</td>\n",
       "      <td>38</td>\n",
       "    </tr>\n",
       "    <tr>\n",
       "      <th>2</th>\n",
       "      <td>Olusegun Obasanjo</td>\n",
       "      <td>1937</td>\n",
       "      <td>87</td>\n",
       "    </tr>\n",
       "    <tr>\n",
       "      <th>3</th>\n",
       "      <td>Muhammadu Buhari</td>\n",
       "      <td>1942</td>\n",
       "      <td>82</td>\n",
       "    </tr>\n",
       "    <tr>\n",
       "      <th>4</th>\n",
       "      <td>Johnson Aguiyi-Ironsi</td>\n",
       "      <td>1924</td>\n",
       "      <td>42</td>\n",
       "    </tr>\n",
       "  </tbody>\n",
       "</table>\n",
       "</div>"
      ],
      "text/plain": [
       "                    Name year of birth  age\n",
       "0           Yakubu Gowon          1934   90\n",
       "1       Murtala Muhammed          1938   38\n",
       "2      Olusegun Obasanjo          1937   87\n",
       "3       Muhammadu Buhari          1942   82\n",
       "4  Johnson Aguiyi-Ironsi          1924   42"
      ]
     },
     "execution_count": 15,
     "metadata": {},
     "output_type": "execute_result"
    }
   ],
   "source": [
    "# delete not so useful columns\n",
    "del df['Date of birth']\n",
    "del df['Date of death']\n",
    "del df['Date and age at assuming office']\n",
    "\n",
    "\n",
    "df.head()"
   ]
  },
  {
   "cell_type": "code",
   "execution_count": 16,
   "id": "10f5a0b3",
   "metadata": {},
   "outputs": [],
   "source": [
    "df.to_csv('datasets')"
   ]
  },
  {
   "cell_type": "markdown",
   "id": "e8c18ef2",
   "metadata": {},
   "source": [
    "#### Part 2 - Data Visualization Design"
   ]
  },
  {
   "cell_type": "code",
   "execution_count": 17,
   "id": "9f1eae72",
   "metadata": {},
   "outputs": [
    {
     "data": {
      "image/png": "[encoded data removed]",
      "text/plain": [
       "<Figure size 600x800 with 1 Axes>"
      ]
     },
     "metadata": {},
     "output_type": "display_data"
    }
   ],
   "source": [
    "# Sort the data\n",
    "df_sorted = df.sort_values(by='age', ascending=True)\n",
    "\n",
    "# Initialize layout\n",
    "fig, ax = plt.subplots(figsize=(6, 8))\n",
    "\n",
    "# Add grey background\n",
    "ax.set_facecolor('whitesmoke')\n",
    "fig.set_facecolor('whitesmoke')\n",
    "\n",
    "colors = ['steelblue']\n",
    "\n",
    "# Create the plot\n",
    "ax.barh(df_sorted['year of birth'], df_sorted['age'],\n",
    "        color=colors,  # colors for each data point\n",
    "        zorder=2  # specify that the bars are drawn after the grid\n",
    "        )\n",
    "\n",
    "# Add vertical grey grid lines\n",
    "ax.grid(linestyle='-',  # type of lines\n",
    "        alpha=0.5,  # opacity\n",
    "        axis='x'  # specify that we only want vertical lines\n",
    "        )\n",
    "\n",
    "# Title\n",
    "title = \"Age Distribution of Nigerian Presidents\"\n",
    "fig.text(-0.08, 1.01,  # relative position\n",
    "         title,\n",
    "         fontsize=24,  # High font size for style\n",
    "         fontweight='bold',\n",
    "         ha='left',  # align to the left\n",
    "         family='dejavu sans'\n",
    "         )\n",
    "\n",
    "# Subtitle\n",
    "subtitle = 'From Independent to Date'\n",
    "fig.text(-0.08, 0.94,  # relative position\n",
    "         subtitle,\n",
    "         fontsize=13,  # High font size for style\n",
    "         color='dimgrey',\n",
    "         ha='left',  # align to the left\n",
    "         family='dejavu sans'\n",
    "         )\n",
    "\n",
    "# Details and Credit\n",
    "text = 'Source: https://en.wikipedia.org/'\n",
    "fig.text(-0.08, 0.05,  # relative position\n",
    "         text,\n",
    "         fontsize=8,  # High font size for style\n",
    "         color='dimgrey',\n",
    "         ha='left',  # align to the left\n",
    "         family='dejavu sans'\n",
    "         )\n",
    "\n",
    "# Remove the spines (border lines) from the chart\n",
    "ax.spines['top'].set_visible(False)\n",
    "ax.spines['right'].set_visible(False)\n",
    "ax.spines['bottom'].set_visible(False)\n",
    "\n",
    "# Change axis position and labels\n",
    "ax.tick_params(axis='y', labelsize=12)\n",
    "ax.xaxis.tick_top()\n",
    "\n",
    "# Add yellow rectangle (optional)\n",
    "rectangle_color = 'steelblue'\n",
    "rect = patches.Rectangle((-0.13, 0.93), 0.03, 0.13,\n",
    "                         linewidth=1, edgecolor=rectangle_color,\n",
    "                         facecolor=rectangle_color, transform=fig.transFigure)\n",
    "fig.patches.append(rect)\n",
    "\n",
    "# export a high quality chart\n",
    "plt.savefig(\"chat.png\", dpi=300)\n",
    "\n",
    "# Display the final chart\n",
    "plt.show()\n"
   ]
  },
  {
   "cell_type": "code",
   "execution_count": null,
   "id": "028c705d",
   "metadata": {},
   "outputs": [],
   "source": []
  }
 ],
 "metadata": {
  "kernelspec": {
   "display_name": "Python 3 (ipykernel)",
   "language": "python",
   "name": "python3"
  },
  "language_info": {
   "codemirror_mode": {
    "name": "ipython",
    "version": 3
   },
   "file_extension": ".py",
   "mimetype": "text/x-python",
   "name": "python",
   "nbconvert_exporter": "python",
   "pygments_lexer": "ipython3",
   "version": "3.9.0"
  }
 },
 "nbformat": 4,
 "nbformat_minor": 5
}
